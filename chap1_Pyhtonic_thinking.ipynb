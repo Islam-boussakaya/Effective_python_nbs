{
 "cells": [
  {
   "cell_type": "markdown",
   "id": "3d11c63a-3307-46ab-b883-8f143d8bc546",
   "metadata": {},
   "source": [
    "## chapter 1 : Pythonic Thinking"
   ]
  },
  {
   "cell_type": "markdown",
   "id": "df099b41-8d1c-4c13-b937-85e429c52d80",
   "metadata": {},
   "source": [
    "### Item 1: Know Which Version of Python You’re Using"
   ]
  },
  {
   "cell_type": "markdown",
   "id": "4595e2a0-23ea-4dc7-b128-0df83bb5fff2",
   "metadata": {},
   "source": [
    "### Item 2: Follow the PEP 8 Style Guide"
   ]
  },
  {
   "cell_type": "markdown",
   "id": "93847da9-6b69-4f51-aa26-4fe36b22bdbe",
   "metadata": {},
   "source": [
    "- Lines should be 79 characters in length or less\n",
    "- In a class, methods should be separated by one blank line\n",
    "- Put one—and only one—space before and after the = operator in a variable assignment."
   ]
  },
  {
   "cell_type": "markdown",
   "id": "ab712f6c-20e5-45e7-834f-3d5e13fabd6d",
   "metadata": {},
   "source": [
    "#### Naming"
   ]
  },
  {
   "cell_type": "markdown",
   "id": "d02ee4cb-a517-46f5-a383-fdcbd7f2da22",
   "metadata": {},
   "source": [
    "#### Expressions and Statements"
   ]
  },
  {
   "cell_type": "markdown",
   "id": "93240107-458c-4a69-90ff-4613f5fd5a0f",
   "metadata": {},
   "source": [
    "- Don’t check for empty containers or sequences (like [] or '') by comparing the length to zero (if len(somelist) == 0). Use if not somelist and assume that empty values will implicitly evaluate to False.\n",
    "\n",
    "- Avoid single-line if statements, for and while loops, and except compound statements. Spread these over multiple lines for clarity."
   ]
  },
  {
   "cell_type": "markdown",
   "id": "f7ce6fc8-4f19-4d2b-be0e-8cf2b72b77ac",
   "metadata": {},
   "source": [
    "#### Imports"
   ]
  },
  {
   "cell_type": "markdown",
   "id": "fc3cb563-2d3f-4b4a-a248-6755459f636b",
   "metadata": {},
   "source": [
    "- If you must do relative imports, use the explicit syntax from . import foo.\n",
    "- Imports should be in sections in the following order: standard library modules, third-party modules, your own modules. Each subsection should have imports in alphabetical order."
   ]
  },
  {
   "cell_type": "markdown",
   "id": "be6853ec-305e-48e3-9ce6-966b064ef84d",
   "metadata": {
    "tags": []
   },
   "source": [
    "### Item 3: Know the Differences Between bytes and str"
   ]
  },
  {
   "cell_type": "code",
   "execution_count": 3,
   "id": "aa27e7b2-758f-41fe-8de1-5d7a050ced78",
   "metadata": {},
   "outputs": [],
   "source": [
    "import locale"
   ]
  },
  {
   "cell_type": "code",
   "execution_count": 5,
   "id": "eab6e178-f1e7-468b-bb54-4f300461d6ab",
   "metadata": {},
   "outputs": [
    {
     "name": "stdout",
     "output_type": "stream",
     "text": [
      "UTF-8\n"
     ]
    }
   ],
   "source": [
    "print(locale.getpreferredencoding())"
   ]
  },
  {
   "cell_type": "markdown",
   "id": "c3f8e9b9-c7bb-409a-925b-00d1b56a889b",
   "metadata": {},
   "source": [
    "### Item 4: Prefer Interpolated F-Strings Over C-style Format Strings and str.format"
   ]
  },
  {
   "cell_type": "code",
   "execution_count": 6,
   "id": "10a95146-66f5-443b-bc7a-2986a9dbd849",
   "metadata": {},
   "outputs": [
    {
     "name": "stdout",
     "output_type": "stream",
     "text": [
      "Binary is 187, hex is 3167\n"
     ]
    }
   ],
   "source": [
    "a = 0b10111011\n",
    "b = 0xc5f\n",
    "print('Binary is %d, hex is %d' % (a, b))"
   ]
  },
  {
   "cell_type": "code",
   "execution_count": 13,
   "id": "528694dd-07a8-48de-9377-156533d53a88",
   "metadata": {},
   "outputs": [
    {
     "name": "stdout",
     "output_type": "stream",
     "text": [
      "my_var = 1.234\n"
     ]
    }
   ],
   "source": [
    "key = 'my_var'\n",
    "value = 1.234\n",
    "print(f'{key} = {value}')"
   ]
  },
  {
   "cell_type": "markdown",
   "id": "faa0649d-9f26-460a-beb3-dd887dcb8f37",
   "metadata": {},
   "source": [
    "- C-style format strings that use the % operator suffer from a variety of gotchas and verbosity problems.\n",
    "- The str.format method introduces some useful concepts in its formatting specifiers mini language, but it otherwise repeats the mistakes of C-style format strings and should be avoided.\n",
    "- F-strings are a new syntax for formatting values into strings that solves the biggest problems with C-style format strings.\n",
    "- F-strings are succinct yet powerful because they allow for arbitrary Python expressions to be directly embedded within format specifiers."
   ]
  },
  {
   "cell_type": "markdown",
   "id": "4567b7bf-f834-4c3a-92fc-ce051dab973f",
   "metadata": {},
   "source": [
    "### Item 5: Write Helper Functions Instead of Complex Expressions"
   ]
  },
  {
   "cell_type": "code",
   "execution_count": 17,
   "id": "ef1d1b01-1744-4dfd-a356-e4d2d856abb1",
   "metadata": {},
   "outputs": [],
   "source": [
    "from urllib.parse import parse_qs"
   ]
  },
  {
   "cell_type": "code",
   "execution_count": 18,
   "id": "c3932e25-e309-4451-8d4a-1d0e32eea755",
   "metadata": {},
   "outputs": [
    {
     "name": "stdout",
     "output_type": "stream",
     "text": [
      "{'red': ['5'], 'blue': ['0'], 'green': ['']}\n"
     ]
    }
   ],
   "source": [
    "my_values = parse_qs('red=5&blue=0&green=',\n",
    "                     keep_blank_values=True)\n",
    "print(repr(my_values))"
   ]
  },
  {
   "cell_type": "markdown",
   "id": "b626cb0e-0907-46e3-908f-5d3913a3a895",
   "metadata": {},
   "source": [
    "- An if/else expression provides a more readable alternative to using the Boolean operators or and and in expressions."
   ]
  },
  {
   "cell_type": "markdown",
   "id": "651f7aa9-68c1-4073-ab2f-a1c2603fdfd9",
   "metadata": {},
   "source": [
    "### Item 6: Prefer Multiple Assignment Unpacking Over Indexing"
   ]
  },
  {
   "cell_type": "markdown",
   "id": "f2756bff-662b-4423-b27c-88d96a66d9cd",
   "metadata": {},
   "source": [
    "#### Tuple"
   ]
  },
  {
   "cell_type": "code",
   "execution_count": 27,
   "id": "c912fdd3-2acc-4a54-8e83-6408ef245c50",
   "metadata": {},
   "outputs": [],
   "source": [
    "# unpacking\n",
    "item = ('word 1', 'word 2')\n",
    "first, second = item #"
   ]
  },
  {
   "cell_type": "code",
   "execution_count": 28,
   "id": "da591f96-8885-4c0e-852e-5e07b1aecfc7",
   "metadata": {},
   "outputs": [
    {
     "name": "stdout",
     "output_type": "stream",
     "text": [
      "word 1 word 2\n"
     ]
    }
   ],
   "source": [
    "print(first,second)"
   ]
  },
  {
   "cell_type": "markdown",
   "id": "61f2bfcc-a666-4ae3-9c83-38c320114c73",
   "metadata": {},
   "source": [
    "Unpacking has less visual noise than accessing the tuple’s indexes,\n",
    "and it often requires fewer lines"
   ]
  },
  {
   "cell_type": "code",
   "execution_count": 32,
   "id": "38151704-e303-4660-8ed0-42b6730161a3",
   "metadata": {},
   "outputs": [
    {
     "name": "stdout",
     "output_type": "stream",
     "text": [
      "#1: bacon has 350 calories\n",
      "#2: donut has 240 calories\n",
      "#3: muffin has 190 calories\n"
     ]
    }
   ],
   "source": [
    "snacks = [('bacon', 350), ('donut', 240), ('muffin', 190)]\n",
    "for rank, (name, calories) in enumerate(snacks,1):\n",
    " print(f'#{rank}: {name} has {calories} calories')"
   ]
  },
  {
   "cell_type": "markdown",
   "id": "fa380d1c-7801-437c-9716-8a1dfa8c6e83",
   "metadata": {},
   "source": [
    "-  Python has special syntax called unpacking for assigning multiple values in a single statement.\n",
    "-  Unpacking is generalized in Python and can be applied to any iterable, including many levels of iterables within iterables.\n",
    "- Reduce visual noise and increase code clarity by using unpacking to avoid explicitly indexing into sequences."
   ]
  },
  {
   "cell_type": "markdown",
   "id": "7f86ebd9-26c8-4f00-a9e0-2168077b2987",
   "metadata": {},
   "source": [
    "### Item 7: Prefer enumerate Over range"
   ]
  },
  {
   "cell_type": "code",
   "execution_count": 33,
   "id": "db8c544f-39b5-4db4-97ce-0391b1df9432",
   "metadata": {},
   "outputs": [],
   "source": [
    "flavor_list = ['vanilla', 'chocolate', 'pecan', 'strawberry']"
   ]
  },
  {
   "cell_type": "code",
   "execution_count": 34,
   "id": "b4a41236-6c14-4e01-8130-7007ad3269b7",
   "metadata": {},
   "outputs": [
    {
     "name": "stdout",
     "output_type": "stream",
     "text": [
      "1: vanilla\n",
      "2: chocolate\n",
      "3: pecan\n",
      "4: strawberry\n"
     ]
    }
   ],
   "source": [
    "for i in range(len(flavor_list)):\n",
    " flavor = flavor_list[i]\n",
    " print(f'{i + 1}: {flavor}')"
   ]
  },
  {
   "cell_type": "code",
   "execution_count": 38,
   "id": "0f1889b6-712a-4d58-981d-71c6a08b5446",
   "metadata": {},
   "outputs": [
    {
     "name": "stdout",
     "output_type": "stream",
     "text": [
      "0 : vanilla\n",
      "1 : chocolate\n",
      "2 : pecan\n",
      "3 : strawberry\n"
     ]
    }
   ],
   "source": [
    "for rank, flavor in enumerate(flavor_list):\n",
    "    print(f'{rank} : {flavor}')"
   ]
  },
  {
   "cell_type": "markdown",
   "id": "615e5009-0524-4d82-aeee-362288fc0664",
   "metadata": {},
   "source": [
    "- enumerate provides concise syntax for looping over an iterator and getting the index of each item from the iterator as you go.\n",
    "- Prefer enumerate instead of looping over a range and indexing into a sequence.\n",
    "-  You can supply a second parameter to enumerate to specify the number from which to begin counting (zero is the default)."
   ]
  },
  {
   "cell_type": "markdown",
   "id": "c482a902-6a69-427b-b84c-4fa7f55c36f6",
   "metadata": {},
   "source": [
    "### Item 8: Use zip to Process Iterators in Parallel"
   ]
  },
  {
   "cell_type": "markdown",
   "id": "55b5bade-4a59-4457-94c5-3e17ba252bf5",
   "metadata": {},
   "source": [
    "- The zip built-in function can be used to iterate over multiple iterators in parallel.\n",
    "- zip creates a lazy generator that produces tuples, so it can be used on infinitely long inputs.\n",
    "- zip truncates its output silently to the shortest iterator if you supply it with iterators of different lengths.\n",
    "- Use the zip_longest function from the itertools built-in module if you want to use zip on iterators of unequal lengths without truncation."
   ]
  },
  {
   "cell_type": "markdown",
   "id": "466b420d-6881-4939-a579-681ee22864f9",
   "metadata": {},
   "source": [
    "### Item 9: Avoid else Blocks After for and while Loops"
   ]
  },
  {
   "cell_type": "markdown",
   "id": "2bcbc367-ddb9-43e2-95ed-9c593ce67e3b",
   "metadata": {},
   "source": [
    "- Python has special syntax that allows else blocks to immediately follow for and while loop interior blocks.\n",
    "- The else block after a loop runs only if the loop body did not encounter a break statement.\n",
    "- Avoid using else blocks after loops because their behavior isn’t intuitive and can be confusing."
   ]
  },
  {
   "cell_type": "markdown",
   "id": "786db174-ba5b-4f9e-af8a-4a289ad23874",
   "metadata": {},
   "source": [
    "### Item 10: Prevent Repetition with Assignment Expressions"
   ]
  },
  {
   "cell_type": "code",
   "execution_count": null,
   "id": "d77eb949-5cbe-4610-8e95-dab96aac6e8c",
   "metadata": {},
   "outputs": [],
   "source": [
    "walrus operator"
   ]
  },
  {
   "cell_type": "code",
   "execution_count": 40,
   "id": "787312ea-6a72-461e-abfb-9be89cb1bee9",
   "metadata": {},
   "outputs": [],
   "source": [
    "fresh_fruit = {\n",
    " 'apple': 10,\n",
    " 'banana': 8,\n",
    " 'lemon': 5,\n",
    "}"
   ]
  },
  {
   "cell_type": "code",
   "execution_count": 43,
   "id": "626519e8-065f-4745-93cb-a0e3cc4828af",
   "metadata": {},
   "outputs": [
    {
     "data": {
      "text/plain": [
       "True"
      ]
     },
     "execution_count": 43,
     "metadata": {},
     "output_type": "execute_result"
    }
   ],
   "source": [
    "(count := fresh_fruit.get('apple', 0)) >= 4"
   ]
  },
  {
   "cell_type": "code",
   "execution_count": null,
   "id": "9535ade8-6163-43cc-9fc9-91c19ae44323",
   "metadata": {},
   "outputs": [],
   "source": [
    "loop-and-a-half idiom"
   ]
  },
  {
   "cell_type": "markdown",
   "id": "1287e915-0655-4304-afec-1861da2d9e84",
   "metadata": {},
   "source": [
    "- Assignment expressions use the walrus operator (:=) to both assign and evaluate variable names in a single expression, thus reducing repetition.\n",
    "-  When an assignment expression is a subexpression of a larger expression, it must be surrounded with parentheses.\n",
    "- Although switch/case statements and do/while loops are not available in Python, their functionality can be emulated much more clearly by using assignment expressions."
   ]
  },
  {
   "cell_type": "code",
   "execution_count": null,
   "id": "76c90110-33da-4469-bbd9-3542739d407e",
   "metadata": {},
   "outputs": [],
   "source": []
  }
 ],
 "metadata": {
  "kernelspec": {
   "display_name": "Python 3 (ipykernel)",
   "language": "python",
   "name": "python3"
  },
  "language_info": {
   "codemirror_mode": {
    "name": "ipython",
    "version": 3
   },
   "file_extension": ".py",
   "mimetype": "text/x-python",
   "name": "python",
   "nbconvert_exporter": "python",
   "pygments_lexer": "ipython3",
   "version": "3.11.0"
  }
 },
 "nbformat": 4,
 "nbformat_minor": 5
}
