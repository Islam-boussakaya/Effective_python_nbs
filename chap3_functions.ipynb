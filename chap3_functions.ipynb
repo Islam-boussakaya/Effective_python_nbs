{
 "cells": [
  {
   "cell_type": "markdown",
   "id": "62c55582-380f-40b1-bf73-b9e17fb10143",
   "metadata": {},
   "source": [
    "## Chapter 3 : Functions"
   ]
  },
  {
   "cell_type": "markdown",
   "id": "0993e4d0-e11c-4a91-ad2b-98922304d2af",
   "metadata": {},
   "source": [
    "### Item 19: Never Unpack More Than Three Variables When Functions Return Multiple Values"
   ]
  },
  {
   "cell_type": "markdown",
   "id": "3a088f3d-c642-47a6-ac93-bfcf24a40dfe",
   "metadata": {},
   "source": [
    "- You can have functions return multiple values by putting them in a tuple and having the caller take advantage of Python’s unpacking syntax.\n",
    "- Multiple return values from a function can also be unpacked by catch-all starred expressions.\n",
    "- Unpacking into four or more variables is error prone and should be avoided; instead, return a small class or namedtuple instance."
   ]
  },
  {
   "cell_type": "markdown",
   "id": "ab57566d-442b-4a90-955c-51aaefeb88e3",
   "metadata": {},
   "source": [
    "### Item 20: Prefer Raising Exceptions to Returning None"
   ]
  },
  {
   "cell_type": "code",
   "execution_count": 10,
   "id": "211bce25-a552-4b7d-a2c3-7d23edc28c69",
   "metadata": {},
   "outputs": [],
   "source": [
    "def careful_divide(a, b):\n",
    "    try:\n",
    "        return a / b\n",
    "    except ZeroDivisionError:\n",
    "        raise ValueError('Invalid inputs')"
   ]
  },
  {
   "cell_type": "code",
   "execution_count": 11,
   "id": "70d598bf-86d5-49a9-8fe0-71dcd2bd86eb",
   "metadata": {},
   "outputs": [
    {
     "ename": "ValueError",
     "evalue": "Invalid inputs",
     "output_type": "error",
     "traceback": [
      "\u001b[0;31m---------------------------------------------------------------------------\u001b[0m",
      "\u001b[0;31mZeroDivisionError\u001b[0m                         Traceback (most recent call last)",
      "Cell \u001b[0;32mIn[10], line 3\u001b[0m, in \u001b[0;36mcareful_divide\u001b[0;34m(a, b)\u001b[0m\n\u001b[1;32m      2\u001b[0m \u001b[38;5;28;01mtry\u001b[39;00m:\n\u001b[0;32m----> 3\u001b[0m     \u001b[38;5;28;01mreturn\u001b[39;00m \u001b[43ma\u001b[49m\u001b[43m \u001b[49m\u001b[38;5;241;43m/\u001b[39;49m\u001b[43m \u001b[49m\u001b[43mb\u001b[49m\n\u001b[1;32m      4\u001b[0m \u001b[38;5;28;01mexcept\u001b[39;00m \u001b[38;5;167;01mZeroDivisionError\u001b[39;00m:\n",
      "\u001b[0;31mZeroDivisionError\u001b[0m: division by zero",
      "\nDuring handling of the above exception, another exception occurred:\n",
      "\u001b[0;31mValueError\u001b[0m                                Traceback (most recent call last)",
      "Cell \u001b[0;32mIn[11], line 1\u001b[0m\n\u001b[0;32m----> 1\u001b[0m \u001b[43mcareful_divide\u001b[49m\u001b[43m(\u001b[49m\u001b[38;5;241;43m2\u001b[39;49m\u001b[43m,\u001b[49m\u001b[43m \u001b[49m\u001b[38;5;241;43m0\u001b[39;49m\u001b[43m)\u001b[49m\n",
      "Cell \u001b[0;32mIn[10], line 5\u001b[0m, in \u001b[0;36mcareful_divide\u001b[0;34m(a, b)\u001b[0m\n\u001b[1;32m      3\u001b[0m     \u001b[38;5;28;01mreturn\u001b[39;00m a \u001b[38;5;241m/\u001b[39m b\n\u001b[1;32m      4\u001b[0m \u001b[38;5;28;01mexcept\u001b[39;00m \u001b[38;5;167;01mZeroDivisionError\u001b[39;00m:\n\u001b[0;32m----> 5\u001b[0m     \u001b[38;5;28;01mraise\u001b[39;00m \u001b[38;5;167;01mValueError\u001b[39;00m(\u001b[38;5;124m'\u001b[39m\u001b[38;5;124mInvalid inputs\u001b[39m\u001b[38;5;124m'\u001b[39m)\n",
      "\u001b[0;31mValueError\u001b[0m: Invalid inputs"
     ]
    }
   ],
   "source": [
    "careful_divide(2, 0)"
   ]
  },
  {
   "cell_type": "markdown",
   "id": "290b4cdf-f17b-486c-bdcf-05f5b5c8b24d",
   "metadata": {},
   "source": [
    "- Functions that return None to indicate special meaning are error prone because None and other values (e.g., zero, the empty string) all evaluate to False in conditional expressions.\n",
    "- Raise exceptions to indicate special situations instead of returning None. Expect the calling code to handle exceptions properly when they’re documented.\n",
    "- Type annotations can be used to make it clear that a function will never return the value None, even in special situations."
   ]
  },
  {
   "cell_type": "markdown",
   "id": "1ed479dd-ebbb-4ac9-9a55-b3f0f3607865",
   "metadata": {},
   "source": [
    "### Item 21: Know How Closures Interact with Variable Scope"
   ]
  },
  {
   "cell_type": "markdown",
   "id": "9aadd2ae-5ab4-4e14-8fa1-92ab365f18f0",
   "metadata": {},
   "source": [
    "#### the scoping bug"
   ]
  },
  {
   "cell_type": "code",
   "execution_count": null,
   "id": "7e68e5b0-c8ae-4806-a5cc-a81df39f54c2",
   "metadata": {},
   "outputs": [],
   "source": [
    "def sort_priority2(numbers, group):\n",
    "    found = False\n",
    "    def helper(x):\n",
    "        if x in group:\n",
    "            found = True # Seems simple\n",
    "            return (0, x)\n",
    "        return (1, x)\n",
    "    numbers.sort(key=helper)\n",
    "    return found"
   ]
  },
  {
   "cell_type": "markdown",
   "id": "1c763bb3-e44c-4030-8232-efd7c8b0d755",
   "metadata": {},
   "source": [
    "#### Solution : nonlocal or Class "
   ]
  },
  {
   "cell_type": "code",
   "execution_count": null,
   "id": "7b3f81c7-5045-4c38-a17c-317402588ecd",
   "metadata": {},
   "outputs": [],
   "source": [
    "def sort_priority3(numbers, group):\n",
    "    found = False\n",
    "    def helper(x):\n",
    "        nonlocal found # Added\n",
    "        if x in group:\n",
    "            found = True\n",
    "            return (0, x)\n",
    "        return (1, x)\n",
    "    numbers.sort(key=helper)\n",
    "    return found"
   ]
  },
  {
   "cell_type": "markdown",
   "id": "ef23b96d-bc65-49e1-9b73-3a2ac78ec110",
   "metadata": {},
   "source": [
    "- Closure functions can refer to variables from any of the scopes in which they were defined.\n",
    "- By default, closures can’t affect enclosing scopes by assigning variables.\n",
    "- Use the nonlocal statement to indicate when a closure can modify a variable in its enclosing scopes.\n",
    "- Avoid using nonlocal statements for anything beyond simple functions."
   ]
  },
  {
   "cell_type": "markdown",
   "id": "8ad1abe1-1f97-43f0-9a35-e6b105adc376",
   "metadata": {},
   "source": [
    "### Item 22: Reduce Visual Noise with Variable Positional Arguments"
   ]
  },
  {
   "cell_type": "markdown",
   "id": "e892a66b-1976-45cf-8a89-27d8f2cc9637",
   "metadata": {},
   "source": [
    "#### var args / star args : *args , variadic functions"
   ]
  },
  {
   "cell_type": "markdown",
   "id": "ba8c4499-c91a-4a4b-8fa3-7a38864bad17",
   "metadata": {},
   "source": [
    "- Functions can accept a variable number of positional arguments by using *args in the def statement.\n",
    "- You can use the items from a sequence as the positional arguments for a function with the * operator.\n",
    "- Using the * operator with a generator may cause a program to run out of memory and crash.\n",
    "- Adding new positional parameters to functions that accept *args can introduce hard-to-detect bugs."
   ]
  },
  {
   "cell_type": "markdown",
   "id": "bb5bec7a-5332-457c-886e-9a3c860e7e42",
   "metadata": {},
   "source": [
    "### Item 23: Provide Optional Behavior with Keyword Arguments"
   ]
  },
  {
   "cell_type": "code",
   "execution_count": 14,
   "id": "7fd9e8bf-baa0-46e0-bb21-eb3b2036eb31",
   "metadata": {},
   "outputs": [],
   "source": [
    "def remainder(number, divisor):\n",
    "    return number % divisor"
   ]
  },
  {
   "cell_type": "code",
   "execution_count": 15,
   "id": "a10ff8f4-7136-479c-b15d-b690483f3ed1",
   "metadata": {},
   "outputs": [],
   "source": [
    "my_kwargs = {\n",
    " 'number': 20,\n",
    " 'divisor': 7,\n",
    "}\n"
   ]
  },
  {
   "cell_type": "code",
   "execution_count": 18,
   "id": "bf410c78-f0b6-49c5-951d-0e171afc13a8",
   "metadata": {},
   "outputs": [],
   "source": [
    "assert remainder(**my_kwargs) == 6"
   ]
  },
  {
   "cell_type": "markdown",
   "id": "b6d0c904-0595-4f28-b1d2-3adcf3a4555f",
   "metadata": {},
   "source": [
    "- Function arguments can be specified by position or by keyword.\n",
    "- Keywords make it clear what the purpose of each argument is when it would be confusing with only positional arguments.\n",
    "- Keyword arguments with default values make it easy to add new behaviors to a function without needing to migrate all existing callers.\n",
    "- Optional keyword arguments should always be passed by keyword instead of by position."
   ]
  },
  {
   "cell_type": "markdown",
   "id": "fe5fc543-3dda-4b03-b357-a0ac15423a1f",
   "metadata": {},
   "source": [
    "### Item 24: Use None and Docstrings to Specify Dynamic Default Arguments"
   ]
  },
  {
   "cell_type": "markdown",
   "id": "79b6cadd-1f86-437a-9f9f-92576826a848",
   "metadata": {},
   "source": [
    "- A default argument value is evaluated only once: during function definition at module load time. This can cause odd behaviors for dynamic values (like {}, [], or datetime.now()).\n",
    "- Use None as the default value for any keyword argument that has a dynamic value. Document the actual default behavior in the function’s docstring.\n",
    "- Using None to represent keyword argument default values also works correctly with type annotations."
   ]
  },
  {
   "cell_type": "markdown",
   "id": "fa3cc8fa-ffa9-4122-8e08-758340a8e141",
   "metadata": {},
   "source": [
    "### Item 25: Enforce Clarity with Keyword-Only and Positional-Only Arguments"
   ]
  },
  {
   "cell_type": "markdown",
   "id": "3967e748-a231-4000-a126-31b0c4dd2652",
   "metadata": {},
   "source": [
    "- Keyword-only arguments force callers to supply certain arguments by keyword (instead of by position), which makes the intention of a function call clearer. Keyword-only arguments are defined after a single * in the argument list.\n",
    "- Positional-only arguments ensure that callers can’t supply certain parameters using keywords, which helps reduce coupling. Positional-only arguments are defined before a single / in the argument list.\n",
    "- Parameters between the / and * characters in the argument list may be supplied by position or keyword, which is the default for Python parameters."
   ]
  },
  {
   "cell_type": "markdown",
   "id": "8045770c-5265-40c5-8119-0ff48b2d9bc8",
   "metadata": {},
   "source": [
    "### Item 26: Define Function Decorators with functools.wraps"
   ]
  },
  {
   "cell_type": "code",
   "execution_count": null,
   "id": "dcaff6f5-5235-418d-965d-ba78b5a51151",
   "metadata": {},
   "outputs": [],
   "source": []
  },
  {
   "cell_type": "code",
   "execution_count": null,
   "id": "82512723-3bdc-4664-84ab-3f3a52120ef9",
   "metadata": {},
   "outputs": [],
   "source": []
  },
  {
   "cell_type": "code",
   "execution_count": null,
   "id": "dc0663bc-9bff-4cf6-8979-a5e051220a1e",
   "metadata": {},
   "outputs": [],
   "source": []
  },
  {
   "cell_type": "code",
   "execution_count": null,
   "id": "3e52149f-354a-4946-aa4e-500e05931bad",
   "metadata": {},
   "outputs": [],
   "source": []
  },
  {
   "cell_type": "code",
   "execution_count": null,
   "id": "d3274a78-4e15-40a0-872a-77f8e50bb84f",
   "metadata": {},
   "outputs": [],
   "source": []
  }
 ],
 "metadata": {
  "kernelspec": {
   "display_name": "Python 3 (ipykernel)",
   "language": "python",
   "name": "python3"
  },
  "language_info": {
   "codemirror_mode": {
    "name": "ipython",
    "version": 3
   },
   "file_extension": ".py",
   "mimetype": "text/x-python",
   "name": "python",
   "nbconvert_exporter": "python",
   "pygments_lexer": "ipython3",
   "version": "3.11.0"
  }
 },
 "nbformat": 4,
 "nbformat_minor": 5
}
