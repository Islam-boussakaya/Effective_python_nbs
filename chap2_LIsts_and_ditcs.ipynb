{
 "cells": [
  {
   "cell_type": "markdown",
   "id": "1e2479b5-4b41-410f-8697-4e6dc8330bba",
   "metadata": {},
   "source": [
    "## chapter 2 : Lists and Dictionaries"
   ]
  },
  {
   "cell_type": "markdown",
   "id": "1b4ef0f2-904a-48ec-968c-ff58518808f8",
   "metadata": {},
   "source": [
    "### Item 11: Know How to Slice Sequences"
   ]
  },
  {
   "cell_type": "code",
   "execution_count": 24,
   "id": "b7c27a68-27bf-4e7a-9436-d5eb6b3f9412",
   "metadata": {},
   "outputs": [],
   "source": [
    "a = ['a', 'b', 'c', 'd', 'e', 'f', 'g', 'h']"
   ]
  },
  {
   "cell_type": "code",
   "execution_count": 5,
   "id": "dea81990-dc86-41f0-a6ea-e6c874d86cb1",
   "metadata": {},
   "outputs": [],
   "source": [
    "first_twenty_items = a[:20]"
   ]
  },
  {
   "cell_type": "code",
   "execution_count": 8,
   "id": "416f3262-0a06-4a0d-ac77-f5179f4af7a9",
   "metadata": {},
   "outputs": [
    {
     "data": {
      "text/plain": [
       "['d', 'e', 'f', 'g', 'h']"
      ]
     },
     "execution_count": 8,
     "metadata": {},
     "output_type": "execute_result"
    }
   ],
   "source": [
    "a[3:]"
   ]
  },
  {
   "cell_type": "code",
   "execution_count": 9,
   "id": "b36d3c9f-24f9-4bc1-9cd6-0240d92fbc2f",
   "metadata": {},
   "outputs": [
    {
     "data": {
      "text/plain": [
       "8"
      ]
     },
     "execution_count": 9,
     "metadata": {},
     "output_type": "execute_result"
    }
   ],
   "source": [
    "len(a)"
   ]
  },
  {
   "cell_type": "code",
   "execution_count": 10,
   "id": "8f14db42-e871-4c90-a7d9-77d80e6d88a7",
   "metadata": {},
   "outputs": [],
   "source": [
    "assert len(a) == 8"
   ]
  },
  {
   "cell_type": "code",
   "execution_count": 11,
   "id": "bd8e6976-73ec-4015-89cc-fabf4f9304b0",
   "metadata": {},
   "outputs": [
    {
     "name": "stdout",
     "output_type": "stream",
     "text": [
      "Before a ['a', 'b', 'c', 'd', 'e', 'f', 'g', 'h']\n",
      "Before b ['a', 'b', 'c', 'd', 'e', 'f', 'g', 'h']\n"
     ]
    }
   ],
   "source": [
    "b = a\n",
    "print('Before a', a)\n",
    "print('Before b', b)"
   ]
  },
  {
   "cell_type": "code",
   "execution_count": 13,
   "id": "b2d21d4f-a8cb-4edc-ae4b-180e544a3e52",
   "metadata": {},
   "outputs": [],
   "source": [
    "a[:] = [101, 102, 103]"
   ]
  },
  {
   "cell_type": "code",
   "execution_count": 12,
   "id": "10ab0f40-a355-4807-a6a8-12071c47ec42",
   "metadata": {},
   "outputs": [
    {
     "name": "stdout",
     "output_type": "stream",
     "text": [
      "After a  ['a', 'b', 'c', 'd', 'e', 'f', 'g', 'h']\n",
      "After b  ['a', 'b', 'c', 'd', 'e', 'f', 'g', 'h']\n"
     ]
    }
   ],
   "source": [
    "assert a is b # Still the same list object\n",
    "print('After a ', a) # Now has different contents\n",
    "print('After b ', b)"
   ]
  },
  {
   "cell_type": "code",
   "execution_count": 14,
   "id": "2d26c009-4a71-4a0d-bbcb-6837d752dad5",
   "metadata": {},
   "outputs": [
    {
     "data": {
      "text/plain": [
       "[101, 102, 103]"
      ]
     },
     "execution_count": 14,
     "metadata": {},
     "output_type": "execute_result"
    }
   ],
   "source": [
    "b"
   ]
  },
  {
   "cell_type": "markdown",
   "id": "5a6539ae-52f9-4f27-97db-12296a37bc0c",
   "metadata": {},
   "source": [
    "### Item 12: Avoid Striding and Slicing in a Single Expression"
   ]
  },
  {
   "cell_type": "code",
   "execution_count": null,
   "id": "0b15ccaa-50ba-49d0-9c1d-3f304a7e6d7f",
   "metadata": {},
   "outputs": [],
   "source": [
    " stride syntax :: "
   ]
  },
  {
   "cell_type": "code",
   "execution_count": 25,
   "id": "4d51546a-a1ab-4fe1-9c6e-4ab9831ef0db",
   "metadata": {},
   "outputs": [
    {
     "data": {
      "text/plain": [
       "['h', 'g', 'f', 'e', 'd', 'c', 'b', 'a']"
      ]
     },
     "execution_count": 25,
     "metadata": {},
     "output_type": "execute_result"
    }
   ],
   "source": [
    "a[::-1]"
   ]
  },
  {
   "cell_type": "markdown",
   "id": "98155e15-abbe-451a-a6e9-946c316f8214",
   "metadata": {},
   "source": [
    "### Item 13: Prefer Catch-All Unpacking Over Slicing"
   ]
  },
  {
   "cell_type": "code",
   "execution_count": 26,
   "id": "02033cc4-ee8c-429c-a558-8920fae81fd2",
   "metadata": {},
   "outputs": [],
   "source": [
    "car_ages = [0, 9, 4, 8, 7, 20, 19, 1, 6, 15]\n",
    "car_ages_descending = sorted(car_ages, reverse=True)"
   ]
  },
  {
   "cell_type": "code",
   "execution_count": 27,
   "id": "234cc6eb-2752-4a00-95e2-7747aee007b7",
   "metadata": {},
   "outputs": [
    {
     "data": {
      "text/plain": [
       "[20, 19, 15, 9, 8, 7, 6, 4, 1, 0]"
      ]
     },
     "execution_count": 27,
     "metadata": {},
     "output_type": "execute_result"
    }
   ],
   "source": [
    "car_ages_descending"
   ]
  },
  {
   "cell_type": "code",
   "execution_count": 33,
   "id": "08995660-1151-4d89-ac29-9b92f6c8186f",
   "metadata": {},
   "outputs": [],
   "source": [
    "oldest, second_oldest = car_ages_descending[0:2]"
   ]
  },
  {
   "cell_type": "code",
   "execution_count": 34,
   "id": "54af03cb-48be-4096-bc52-b3cda9d9322d",
   "metadata": {},
   "outputs": [
    {
     "data": {
      "text/plain": [
       "[20, 19]"
      ]
     },
     "execution_count": 34,
     "metadata": {},
     "output_type": "execute_result"
    }
   ],
   "source": [
    "car_ages_descending[0:2]"
   ]
  },
  {
   "cell_type": "code",
   "execution_count": 38,
   "id": "2290c933-a266-41f9-981e-c335e2bd840c",
   "metadata": {},
   "outputs": [],
   "source": [
    "oldest, *others, youngest = car_ages_descending"
   ]
  },
  {
   "cell_type": "markdown",
   "id": "4eadc753-a46e-4ca8-afec-0308d276481d",
   "metadata": {},
   "source": [
    "- Unpacking assignments may use a starred expression to catch all values that weren’t assigned to the other parts of the unpacking pattern into a list.\n",
    "- Starred expressions may appear in any position, and they will always become a list containing the zero or more values they receive.\n",
    "- When dividing a list into non-overlapping pieces, catch-all unpacking is much less error prone than slicing and indexing"
   ]
  },
  {
   "cell_type": "markdown",
   "id": "4a51e1ef-3762-4e61-a828-3950b9b41232",
   "metadata": {},
   "source": [
    "### Item 14: Sort by Complex Criteria Using the key Parameter"
   ]
  },
  {
   "cell_type": "code",
   "execution_count": 42,
   "id": "cddb69a2-95e8-4fe9-8614-9a861ff7f3db",
   "metadata": {},
   "outputs": [],
   "source": [
    "saw = (5, 'circular saw')\n",
    "jackhammer = (40, 'jackhammer')\n",
    "assert not (jackhammer < saw) # Matches expectations"
   ]
  },
  {
   "cell_type": "code",
   "execution_count": null,
   "id": "e23dd9b8-8707-4f60-a677-1c6521dcb1aa",
   "metadata": {},
   "outputs": [],
   "source": [
    "# unary\n",
    ".sort(key=lambda x: (-x.numeric, x.str))"
   ]
  },
  {
   "cell_type": "markdown",
   "id": "95a64b27-7e9d-435b-8276-8a1ff547bb0f",
   "metadata": {},
   "source": [
    "### Item 15: Be Cautious When Relying on dict Insertion Ordering"
   ]
  },
  {
   "cell_type": "markdown",
   "id": "a67f7ef1-338f-43fc-bdbe-190987e8ca3f",
   "metadata": {},
   "source": [
    "### Item 16: Prefer get Over in and KeyError to Handle Missing Dictionary Keys"
   ]
  },
  {
   "cell_type": "code",
   "execution_count": 46,
   "id": "3b973849-a2ec-4e12-bbbe-c35b1a3d027d",
   "metadata": {},
   "outputs": [],
   "source": [
    "counters = {\n",
    " 'pumpernickel': 2,\n",
    " 'sourdough': 1,\n",
    "}\n",
    "\n",
    "key = 'wheat'"
   ]
  },
  {
   "cell_type": "code",
   "execution_count": 47,
   "id": "b3535b23-0c25-40f4-8f7e-35aa760bdd63",
   "metadata": {},
   "outputs": [
    {
     "name": "stdout",
     "output_type": "stream",
     "text": [
      "not found\n"
     ]
    }
   ],
   "source": [
    "try:\n",
    " count = counters[key]\n",
    "except KeyError:\n",
    "    print(\"not found\")"
   ]
  },
  {
   "cell_type": "markdown",
   "id": "01a9cd42-7ec9-4682-a3be-ba7039358c05",
   "metadata": {},
   "source": [
    "- There are four common ways to detect and handle missing keys in dictionaries: using in expressions, KeyError exceptions, the get method, and the setdefault method.\n",
    "- The get method is best for dictionaries that contain basic types like counters, and it is preferable along with assignment expressions when creating dictionary values has a high cost or may raise exceptions.\n",
    "- When the setdefault method of dict seems like the best fit for your problem, you should consider using defaultdict instead."
   ]
  },
  {
   "cell_type": "markdown",
   "id": "9e608f04-25bb-41c5-8fe0-c3c86db5dc56",
   "metadata": {},
   "source": [
    "### Item 17: Prefer defaultdict Over setdefault to Handle Missing Items in Internal State"
   ]
  },
  {
   "cell_type": "markdown",
   "id": "b309962c-8091-4865-a120-3fa10bf1eb88",
   "metadata": {},
   "source": [
    "### Item 18: Know How to Construct Key-Dependent Default Values"
   ]
  }
 ],
 "metadata": {
  "kernelspec": {
   "display_name": "Python 3 (ipykernel)",
   "language": "python",
   "name": "python3"
  },
  "language_info": {
   "codemirror_mode": {
    "name": "ipython",
    "version": 3
   },
   "file_extension": ".py",
   "mimetype": "text/x-python",
   "name": "python",
   "nbconvert_exporter": "python",
   "pygments_lexer": "ipython3",
   "version": "3.11.0"
  }
 },
 "nbformat": 4,
 "nbformat_minor": 5
}
