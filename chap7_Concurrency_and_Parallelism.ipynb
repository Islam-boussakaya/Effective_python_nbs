{
 "cells": [
  {
   "cell_type": "markdown",
   "id": "ec4a241c-21f1-41e6-9382-d4b032d88634",
   "metadata": {},
   "source": [
    "## Chapter 7 : Concurrency and Parallelism"
   ]
  },
  {
   "cell_type": "markdown",
   "id": "2d6454e1-f503-438c-bd30-b6a1ba3f44d8",
   "metadata": {},
   "source": [
    "The key difference between parallelism and concurrency is speedup. "
   ]
  },
  {
   "cell_type": "markdown",
   "id": "a9c1052f-104d-46a3-b04f-7255c9bed1fd",
   "metadata": {},
   "source": [
    "### Item 52: Use subprocess to Manage Child Processes"
   ]
  },
  {
   "cell_type": "code",
   "execution_count": 1,
   "id": "a61aca1c-74c0-4198-84c4-49b4f1c1c4f9",
   "metadata": {},
   "outputs": [],
   "source": [
    "import subprocess\n",
    "result = subprocess.run(\n",
    "    ['echo', 'Hello from the child!'],\n",
    "    capture_output=True,\n",
    "    encoding='utf-8')\n",
    "result.check_returncode()"
   ]
  },
  {
   "cell_type": "code",
   "execution_count": 2,
   "id": "8e7b50c3-34ae-45bc-b622-a413b8dcf66c",
   "metadata": {},
   "outputs": [
    {
     "name": "stdout",
     "output_type": "stream",
     "text": [
      "Hello from the child!\n",
      "\n"
     ]
    }
   ],
   "source": [
    "print(result.stdout)"
   ]
  },
  {
   "cell_type": "code",
   "execution_count": 5,
   "id": "a85ad8d0-f593-441e-bc90-4d8df905590c",
   "metadata": {},
   "outputs": [],
   "source": [
    "import time\n",
    "start = time.time()\n",
    "sleep_procs = []\n",
    "for _ in range(10):\n",
    "    proc = subprocess.Popen(['sleep', '1'])\n",
    "    sleep_procs.append(proc)"
   ]
  },
  {
   "cell_type": "code",
   "execution_count": 7,
   "id": "2c3afee2-75bb-407c-8340-61930030c640",
   "metadata": {},
   "outputs": [
    {
     "name": "stdout",
     "output_type": "stream",
     "text": [
      "Finished in 18.2 seconds\n",
      "Finished in 18.2 seconds\n",
      "Finished in 18.2 seconds\n",
      "Finished in 18.2 seconds\n",
      "Finished in 18.2 seconds\n",
      "Finished in 18.2 seconds\n",
      "Finished in 18.2 seconds\n",
      "Finished in 18.2 seconds\n",
      "Finished in 18.2 seconds\n",
      "Finished in 18.2 seconds\n"
     ]
    }
   ],
   "source": [
    "for proc in sleep_procs:\n",
    "    proc.communicate()\n",
    "    end = time.time()\n",
    "    delta = end - start\n",
    "    print(f'Finished in {delta:.3} seconds')"
   ]
  },
  {
   "cell_type": "code",
   "execution_count": null,
   "id": "7e880bba-35a7-45fa-a19f-0b062a4c1d2a",
   "metadata": {},
   "outputs": [],
   "source": []
  }
 ],
 "metadata": {
  "kernelspec": {
   "display_name": "Python 3 (ipykernel)",
   "language": "python",
   "name": "python3"
  },
  "language_info": {
   "codemirror_mode": {
    "name": "ipython",
    "version": 3
   },
   "file_extension": ".py",
   "mimetype": "text/x-python",
   "name": "python",
   "nbconvert_exporter": "python",
   "pygments_lexer": "ipython3",
   "version": "3.11.0"
  }
 },
 "nbformat": 4,
 "nbformat_minor": 5
}
