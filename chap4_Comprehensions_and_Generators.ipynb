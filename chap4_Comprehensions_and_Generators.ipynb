{
 "cells": [
  {
   "cell_type": "markdown",
   "id": "e686ce91-83ff-4f66-96d0-70228c8edcc7",
   "metadata": {},
   "source": [
    "## Chapter 4 : Comprehensions and Generators"
   ]
  },
  {
   "cell_type": "markdown",
   "id": "284fb363-77a3-4e65-bd3b-778e168dab8d",
   "metadata": {},
   "source": [
    "### Item 27: Use Comprehensions Instead of map and filter"
   ]
  },
  {
   "cell_type": "code",
   "execution_count": 1,
   "id": "b3420bc8-135b-4070-b4a2-b32a889480af",
   "metadata": {},
   "outputs": [],
   "source": [
    "a = [1, 2, 3, 4, 5, 6, 7, 8, 9, 10]"
   ]
  },
  {
   "cell_type": "code",
   "execution_count": 3,
   "id": "c631f545-5bbe-4866-a42a-4e3dd129228d",
   "metadata": {},
   "outputs": [],
   "source": [
    "square = [ n**2 for n in a ]"
   ]
  },
  {
   "cell_type": "code",
   "execution_count": 4,
   "id": "47235688-8412-4c88-944b-0f86bad93050",
   "metadata": {},
   "outputs": [
    {
     "data": {
      "text/plain": [
       "[1, 4, 9, 16, 25, 36, 49, 64, 81, 100]"
      ]
     },
     "execution_count": 4,
     "metadata": {},
     "output_type": "execute_result"
    }
   ],
   "source": [
    "square"
   ]
  },
  {
   "cell_type": "markdown",
   "id": "b9285cc0-46cc-4dcc-a4e0-62de64451014",
   "metadata": {},
   "source": [
    "dictionary comprehensions\n",
    "\n",
    "set comprehensions"
   ]
  },
  {
   "cell_type": "markdown",
   "id": "21950654-a4e9-41d1-b44f-6e9499adc439",
   "metadata": {},
   "source": [
    "- List comprehensions are clearer than the map and filter built-in functions because they don’t require lambda expressions.\n",
    "- List comprehensions allow you to easily skip items from the input list, a behavior that map doesn’t support without help from filter.\n",
    "- Dictionaries and sets may also be created using comprehensions."
   ]
  },
  {
   "cell_type": "code",
   "execution_count": null,
   "id": "d1bbef24-1753-4629-a3e5-e4a91a3f5bc2",
   "metadata": {},
   "outputs": [],
   "source": []
  },
  {
   "cell_type": "markdown",
   "id": "99dc9390-4e29-4978-9a1b-d80b80e04d30",
   "metadata": {},
   "source": [
    "### Item 28: Avoid More Than Two Control Subexpressions in Comprehensions"
   ]
  },
  {
   "cell_type": "markdown",
   "id": "0e9d045e-ac94-444e-b2df-772f74a2300c",
   "metadata": {},
   "source": [
    "The rule of thumb is to avoid using more than two control subexpressions in a comprehension"
   ]
  },
  {
   "cell_type": "markdown",
   "id": "ed2ddc5e-b770-4b7f-bf4b-7ea059c7c3f2",
   "metadata": {},
   "source": [
    "- Comprehensions support multiple levels of loops and multiple conditions per loop level.\n",
    "- Comprehensions with more than two control subexpressions are very difficult to read and should be avoided."
   ]
  },
  {
   "cell_type": "markdown",
   "id": "e30485af-0b28-49d4-8ccf-5f8c45fa7900",
   "metadata": {},
   "source": [
    "### Item 29: Avoid Repeated Work in Comprehensions by Using Assignment Expressions"
   ]
  },
  {
   "cell_type": "code",
   "execution_count": 7,
   "id": "79152527-108d-4f25-bcdc-f6bcc4f272d1",
   "metadata": {},
   "outputs": [],
   "source": [
    "stock = {\n",
    "    'nails': 125,\n",
    "    'screws': 35,\n",
    "    'wingnuts': 8,\n",
    "    'washers': 24,\n",
    "}\n",
    "\n",
    "order = ['screws', 'wingnuts', 'clips']\n",
    "\n",
    "def get_batches(count, size):\n",
    "    return count // size\n",
    "\n",
    "result = {}\n",
    "for name in order:\n",
    "    count = stock.get(name, 0)\n",
    "    batches = get_batches(count, 8)\n",
    "    if batches:\n",
    "        result[name] = batches\n",
    "        "
   ]
  },
  {
   "cell_type": "code",
   "execution_count": 8,
   "id": "d5ea6b66-c57c-4c96-a749-723e91b2a7f6",
   "metadata": {},
   "outputs": [
    {
     "name": "stdout",
     "output_type": "stream",
     "text": [
      "{'screws': 4, 'wingnuts': 1}\n"
     ]
    }
   ],
   "source": [
    "print(result)"
   ]
  },
  {
   "cell_type": "code",
   "execution_count": 10,
   "id": "5a71e11c-daf5-4f18-b3f2-9107c03a9916",
   "metadata": {},
   "outputs": [
    {
     "name": "stdout",
     "output_type": "stream",
     "text": [
      "{'screws': 4, 'wingnuts': 1}\n"
     ]
    }
   ],
   "source": [
    "# using dict comprehensions\n",
    "found = {name: get_batches(stock.get(name, 0), 8)\n",
    "         for name in order\n",
    "         if get_batches(stock.get(name, 0), 8)}\n",
    "print(found)"
   ]
  },
  {
   "cell_type": "markdown",
   "id": "e98d9588-2569-48d7-a499-b323db980f83",
   "metadata": {},
   "source": [
    "- Assignment expressions make it possible for comprehensions and generator expressions to reuse the value from one condition elsewhere in the same comprehension, which can improve readability and performance.\n",
    "- Although it’s possible to use an assignment expression outside of a comprehension or generator expression’s condition, you should avoid doing so."
   ]
  },
  {
   "cell_type": "markdown",
   "id": "3bae31b0-1c72-4d38-846d-c02cb7c78478",
   "metadata": {},
   "source": [
    "### Item 30: Consider Generators Instead of Returning Lists"
   ]
  },
  {
   "cell_type": "markdown",
   "id": "539a4767-d7b6-4b09-b9dd-17d42a507964",
   "metadata": {},
   "source": [
    "#### yield expressions"
   ]
  },
  {
   "cell_type": "code",
   "execution_count": 12,
   "id": "e7e0bdd1-d078-4cc0-9d16-8e3e08796fc8",
   "metadata": {},
   "outputs": [],
   "source": [
    "address = 'Four score and seven years ago...'"
   ]
  },
  {
   "cell_type": "code",
   "execution_count": 11,
   "id": "9d7350a8-6cb8-4966-8710-ac5abc2385c7",
   "metadata": {},
   "outputs": [],
   "source": [
    "def index_words_iter(text):\n",
    "    if text:\n",
    "        yield 0\n",
    "    for index, letter in enumerate(text):\n",
    "        if letter == ' ':\n",
    "            yield index + 1"
   ]
  },
  {
   "cell_type": "code",
   "execution_count": 24,
   "id": "c6d54935-1ba3-4ee5-87ee-25572701ee80",
   "metadata": {},
   "outputs": [],
   "source": [
    "it = index_words_iter(address)"
   ]
  },
  {
   "cell_type": "code",
   "execution_count": 25,
   "id": "5bcb6354-065b-4dd2-859a-9daaa3e575c0",
   "metadata": {},
   "outputs": [
    {
     "data": {
      "text/plain": [
       "[0, 5, 11, 15, 21, 27]"
      ]
     },
     "execution_count": 25,
     "metadata": {},
     "output_type": "execute_result"
    }
   ],
   "source": [
    "list(it)"
   ]
  },
  {
   "cell_type": "markdown",
   "id": "310c59ec-fff6-4b34-8edf-4969acf45137",
   "metadata": {},
   "source": [
    "- Using generators can be clearer than the alternative of having a function return a list of accumulated results.\n",
    "- The iterator returned by a generator produces the set of values passed to yield expressions within the generator function’s body.\n",
    "- Generators can produce a sequence of outputs for arbitrarily large inputs because their working memory doesn’t include all inputs and outputs."
   ]
  },
  {
   "cell_type": "markdown",
   "id": "da989d1e-c54c-4442-b78d-6f20909186ec",
   "metadata": {},
   "source": [
    "### Item 31: Be Defensive When Iterating Over Arguments"
   ]
  },
  {
   "cell_type": "code",
   "execution_count": null,
   "id": "547526f3-b7af-47a5-ba8f-8072824c85b9",
   "metadata": {},
   "outputs": [],
   "source": [
    " exhausted iterator  iterator protocol"
   ]
  },
  {
   "cell_type": "code",
   "execution_count": null,
   "id": "93c56f1e-a127-4be9-bda9-7aff9bd9e424",
   "metadata": {},
   "outputs": [],
   "source": []
  },
  {
   "cell_type": "code",
   "execution_count": null,
   "id": "c2818a9d-ce3b-4ed3-93d8-31410c9d8882",
   "metadata": {},
   "outputs": [],
   "source": []
  },
  {
   "cell_type": "markdown",
   "id": "bd1cc1d7-3903-4923-9e2c-a4773a206290",
   "metadata": {},
   "source": [
    "### Item 32: Consider Generator Expressions for Large List Comprehensions"
   ]
  },
  {
   "cell_type": "code",
   "execution_count": null,
   "id": "f6b903ec-938d-4557-940f-12a1c5c978b5",
   "metadata": {},
   "outputs": [],
   "source": [
    "= [ test for i in test] # list comprehensions\n",
    "= ( test for i in test) # generator expressions"
   ]
  },
  {
   "cell_type": "markdown",
   "id": "3cbab151-3a85-442c-b07f-7056f09113e3",
   "metadata": {},
   "source": [
    "- List comprehensions can cause problems for large inputs by using too much memory.\n",
    "- Generator expressions avoid memory issues by producing outputs one at a time as iterators.\n",
    "- Generator expressions can be composed by passing the iterator from one generator expression into the for subexpression of another.\n",
    "- Generator expressions execute very quickly when chained together and are memory efficient."
   ]
  },
  {
   "cell_type": "markdown",
   "id": "45a986b6-a7ee-4d89-be84-ccf6caf2441f",
   "metadata": {},
   "source": [
    "### Item 33: Compose Multiple Generators with yield from"
   ]
  },
  {
   "cell_type": "code",
   "execution_count": 31,
   "id": "e17087f7-f50d-49d1-9f34-4ca83e00c843",
   "metadata": {},
   "outputs": [],
   "source": [
    "def move(period, speed):\n",
    "    for _ in range(period):\n",
    "        yield speed"
   ]
  },
  {
   "cell_type": "code",
   "execution_count": 33,
   "id": "55adb8cc-824c-43b1-81cf-c3299b725705",
   "metadata": {},
   "outputs": [],
   "source": [
    "def pause(delay):\n",
    "    for _ in range(delay):\n",
    "        yield 0"
   ]
  },
  {
   "cell_type": "code",
   "execution_count": 36,
   "id": "9197b963-f951-465b-b00f-9ec540b3114d",
   "metadata": {},
   "outputs": [],
   "source": [
    "def child():\n",
    "    for i in range(1_000_000):\n",
    "        yield i\n",
    "        \n",
    "def slow():\n",
    "    for i in child():\n",
    "        yield i\n",
    "        \n",
    "def fast():\n",
    "    yield from child()"
   ]
  },
  {
   "cell_type": "code",
   "execution_count": 38,
   "id": "8163e2b7-4a7e-457c-ab58-713c9281946a",
   "metadata": {},
   "outputs": [],
   "source": [
    "import timeit"
   ]
  },
  {
   "cell_type": "code",
   "execution_count": 39,
   "id": "470c12e8-7021-4619-964e-ea7be7699e9e",
   "metadata": {},
   "outputs": [
    {
     "data": {
      "text/plain": [
       "2.5066264539491385"
      ]
     },
     "execution_count": 39,
     "metadata": {},
     "output_type": "execute_result"
    }
   ],
   "source": [
    "timeit.timeit(\n",
    "    stmt='for _ in slow(): pass',\n",
    "    globals=globals(),\n",
    "    number=50)"
   ]
  },
  {
   "cell_type": "code",
   "execution_count": 40,
   "id": "d43faece-a63c-43e3-9375-289102933515",
   "metadata": {},
   "outputs": [
    {
     "data": {
      "text/plain": [
       "2.4562128719408065"
      ]
     },
     "execution_count": 40,
     "metadata": {},
     "output_type": "execute_result"
    }
   ],
   "source": [
    "timeit.timeit(\n",
    "    stmt='for _ in fast(): pass',\n",
    "    globals=globals(),\n",
    "    number=50)"
   ]
  },
  {
   "cell_type": "markdown",
   "id": "0b8da165-5c6f-448b-9c42-812516a811c2",
   "metadata": {},
   "source": [
    "- The yield from expression allows you to compose multiple nested generators together into a single combined generator.\n",
    "- yield from provides better performance than manually iterating nested generators and yielding their outputs."
   ]
  },
  {
   "cell_type": "markdown",
   "id": "eed4cd8a-4bb5-42f3-bc9e-23a7ee061495",
   "metadata": {},
   "source": [
    "### Item 34: Avoid Injecting Data into Generators with send"
   ]
  },
  {
   "cell_type": "markdown",
   "id": "42076f0d-8083-4b08-9577-21d95540beff",
   "metadata": {},
   "source": [
    "- The send method can be used to inject data into a generator by giving the yield expression a value that can be assigned to a variable.\n",
    "- Using send with yield from expressions may cause surprising behavior, such as None values appearing at unexpected times in the generator output.\n",
    "- Providing an input iterator to a set of composed generators is a better approach than using the send method, which should be avoided."
   ]
  },
  {
   "cell_type": "markdown",
   "id": "a79300fd-b248-422f-8d65-7b88a4bfc32e",
   "metadata": {},
   "source": [
    "### Item 35: Avoid Causing State Transitions in Generators with throw"
   ]
  },
  {
   "cell_type": "code",
   "execution_count": null,
   "id": "5f1a3b44-3111-48a0-b06a-813d5b55487e",
   "metadata": {},
   "outputs": [],
   "source": []
  },
  {
   "cell_type": "code",
   "execution_count": null,
   "id": "0243202a-0528-4bd0-94dd-3b6373f13060",
   "metadata": {},
   "outputs": [],
   "source": []
  },
  {
   "cell_type": "code",
   "execution_count": null,
   "id": "eba3ac6d-9c11-49c9-8e4a-3ec909220d04",
   "metadata": {},
   "outputs": [],
   "source": []
  },
  {
   "cell_type": "code",
   "execution_count": null,
   "id": "7c5eb2ca-7083-47a1-afd0-bf2fe2a3d7a9",
   "metadata": {},
   "outputs": [],
   "source": []
  }
 ],
 "metadata": {
  "kernelspec": {
   "display_name": "Python 3 (ipykernel)",
   "language": "python",
   "name": "python3"
  },
  "language_info": {
   "codemirror_mode": {
    "name": "ipython",
    "version": 3
   },
   "file_extension": ".py",
   "mimetype": "text/x-python",
   "name": "python",
   "nbconvert_exporter": "python",
   "pygments_lexer": "ipython3",
   "version": "3.11.0"
  }
 },
 "nbformat": 4,
 "nbformat_minor": 5
}
